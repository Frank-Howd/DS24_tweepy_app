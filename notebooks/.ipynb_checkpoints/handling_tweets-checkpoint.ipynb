{
 "cells": [
  {
   "cell_type": "code",
   "execution_count": 2,
   "id": "derived-minister",
   "metadata": {},
   "outputs": [],
   "source": [
    "from os import getenv\n",
    "import tweepy\n",
    "\n",
    "auth = tweepy.OAuthHandler(\"NMV0tKMlshhMYTzqwh44CjPzV\",\n",
    "                           \"QhLLsomQrqvfGiPb8pCemrKND7izBWLf2Vkuzf1xTjA1pzsFtu\")\n",
    "twitter = tweepy.API(auth)\n",
    "\n",
    "\n",
    "def get_info(username):\n",
    "    try:\n",
    "        twitter_user = twitter.get_user(username)\n",
    "        tweets = twitter_user.timeline(\n",
    "            count=500,\n",
    "            exclude_replies=True,\n",
    "            include_rts=False\n",
    "        )\n",
    "\n",
    "        return twitter_user, tweets\n",
    "\n",
    "    except Exception as e:\n",
    "        print(\"Error Processing %s: %s\" % (username, e))\n"
   ]
  },
  {
   "cell_type": "code",
   "execution_count": null,
   "id": "collected-adams",
   "metadata": {},
   "outputs": [],
   "source": [
    "user, tweets = get_info(elonmusk)"
   ]
  }
 ],
 "metadata": {
  "kernelspec": {
   "display_name": "Python 3",
   "language": "python",
   "name": "python3"
  },
  "language_info": {
   "codemirror_mode": {
    "name": "ipython",
    "version": 3
   },
   "file_extension": ".py",
   "mimetype": "text/x-python",
   "name": "python",
   "nbconvert_exporter": "python",
   "pygments_lexer": "ipython3",
   "version": "3.8.3"
  }
 },
 "nbformat": 4,
 "nbformat_minor": 5
}
